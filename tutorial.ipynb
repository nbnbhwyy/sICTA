{
 "cells": [
  {
   "cell_type": "code",
   "execution_count": 2,
   "metadata": {},
   "outputs": [
    {
     "name": "stdout",
     "output_type": "stream",
     "text": [
      "Collecting sICTA==0.0.3\n",
      "  Downloading sICTA-0.0.3-py3-none-any.whl (17 kB)\n",
      "Installing collected packages: sICTA\n",
      "Successfully installed sICTA-0.0.3\n"
     ]
    }
   ],
   "source": [
    "!pip install sICTA==1.0.0\n",
    "import sICTA  #Install and Import the sICTA Package"
   ]
  },
  {
   "cell_type": "code",
   "execution_count": 3,
   "metadata": {},
   "outputs": [
    {
     "name": "stdout",
     "output_type": "stream",
     "text": [
      "1.8.1+cu111\n",
      "(6, 1) NVIDIA GeForce GTX 1080 Ti\n"
     ]
    }
   ],
   "source": [
    "import os\n",
    "import scanpy as sc\n",
    "import numpy as np\n",
    "import warnings \n",
    "import time\n",
    "import pandas as pd\n",
    "from sklearn.preprocessing import LabelEncoder\n",
    "warnings.filterwarnings (\"ignore\")\n",
    "import torch\n",
    "print(torch.__version__)  \n",
    "print(torch.cuda.get_device_capability(device=None),  torch.cuda.get_device_name(device=None))\n",
    "import collections"
   ]
  },
  {
   "cell_type": "code",
   "execution_count": 4,
   "metadata": {},
   "outputs": [
    {
     "name": "stdout",
     "output_type": "stream",
     "text": [
      "AnnData object with n_obs × n_vars = 2098 × 1998\n",
      "    obs: 'cell_type', 'sample_name', 'celltype', 'broad_cell_type', 'broad_cell_type_2', 'Celltype', 'y_pred'\n",
      "    var: 'genes', 'std'\n",
      "    uns: 'Celltype_soft', 'dicts_cell_type'\n",
      "cuda:2\n",
      "Mask loaded!\n",
      "120093007\n",
      "\n",
      "\n",
      "Model builded!\n"
     ]
    },
    {
     "name": "stderr",
     "output_type": "stream",
     "text": [
      "[train epoch 0] loss: 141.283, acc: 0.578: 100%|██████████| 16/16 [00:02<00:00,  5.99it/s]\n"
     ]
    },
    {
     "name": "stdout",
     "output_type": "stream",
     "text": [
      "141.28277587890625\n"
     ]
    },
    {
     "name": "stderr",
     "output_type": "stream",
     "text": [
      "[train epoch 1] loss: 110.114, acc: 0.839: 100%|██████████| 16/16 [00:02<00:00,  6.81it/s]\n"
     ]
    },
    {
     "name": "stdout",
     "output_type": "stream",
     "text": [
      "110.11426544189453\n"
     ]
    },
    {
     "name": "stderr",
     "output_type": "stream",
     "text": [
      "[train epoch 2] loss: 93.152, acc: 0.896: 100%|██████████| 16/16 [00:02<00:00,  6.82it/s]\n"
     ]
    },
    {
     "name": "stdout",
     "output_type": "stream",
     "text": [
      "93.15203094482422\n"
     ]
    },
    {
     "name": "stderr",
     "output_type": "stream",
     "text": [
      "[train epoch 3] loss: 81.533, acc: 0.924: 100%|██████████| 16/16 [00:02<00:00,  6.93it/s]\n"
     ]
    },
    {
     "name": "stdout",
     "output_type": "stream",
     "text": [
      "81.53307342529297\n"
     ]
    },
    {
     "name": "stderr",
     "output_type": "stream",
     "text": [
      "[train epoch 4] loss: 72.223, acc: 0.926: 100%|██████████| 16/16 [00:02<00:00,  6.91it/s]\n"
     ]
    },
    {
     "name": "stdout",
     "output_type": "stream",
     "text": [
      "72.22327423095703\n"
     ]
    },
    {
     "name": "stderr",
     "output_type": "stream",
     "text": [
      "[train epoch 5] loss: 64.372, acc: 0.930: 100%|██████████| 16/16 [00:02<00:00,  7.01it/s]\n"
     ]
    },
    {
     "name": "stdout",
     "output_type": "stream",
     "text": [
      "64.37199401855469\n"
     ]
    },
    {
     "name": "stderr",
     "output_type": "stream",
     "text": [
      "[train epoch 6] loss: 57.036, acc: 0.929: 100%|██████████| 16/16 [00:02<00:00,  6.90it/s]\n"
     ]
    },
    {
     "name": "stdout",
     "output_type": "stream",
     "text": [
      "57.03609848022461\n"
     ]
    },
    {
     "name": "stderr",
     "output_type": "stream",
     "text": [
      "[train epoch 7] loss: 50.826, acc: 0.932: 100%|██████████| 16/16 [00:02<00:00,  6.98it/s]\n"
     ]
    },
    {
     "name": "stdout",
     "output_type": "stream",
     "text": [
      "50.82566833496094\n"
     ]
    },
    {
     "name": "stderr",
     "output_type": "stream",
     "text": [
      "[train epoch 8] loss: 45.339, acc: 0.933: 100%|██████████| 16/16 [00:02<00:00,  6.89it/s]\n"
     ]
    },
    {
     "name": "stdout",
     "output_type": "stream",
     "text": [
      "45.339454650878906\n"
     ]
    },
    {
     "name": "stderr",
     "output_type": "stream",
     "text": [
      "[train epoch 9] loss: 39.915, acc: 0.936: 100%|██████████| 16/16 [00:02<00:00,  6.77it/s]\n"
     ]
    },
    {
     "name": "stdout",
     "output_type": "stream",
     "text": [
      "39.914939880371094\n"
     ]
    },
    {
     "name": "stderr",
     "output_type": "stream",
     "text": [
      "[train epoch 10] loss: 35.541, acc: 0.936: 100%|██████████| 16/16 [00:02<00:00,  6.81it/s]\n"
     ]
    },
    {
     "name": "stdout",
     "output_type": "stream",
     "text": [
      "35.54108428955078\n"
     ]
    },
    {
     "name": "stderr",
     "output_type": "stream",
     "text": [
      "[train epoch 11] loss: 31.870, acc: 0.936: 100%|██████████| 16/16 [00:02<00:00,  6.80it/s]\n"
     ]
    },
    {
     "name": "stdout",
     "output_type": "stream",
     "text": [
      "31.870025634765625\n"
     ]
    },
    {
     "name": "stderr",
     "output_type": "stream",
     "text": [
      "[train epoch 12] loss: 28.449, acc: 0.939: 100%|██████████| 16/16 [00:02<00:00,  6.77it/s]\n"
     ]
    },
    {
     "name": "stdout",
     "output_type": "stream",
     "text": [
      "28.44927978515625\n"
     ]
    },
    {
     "name": "stderr",
     "output_type": "stream",
     "text": [
      "[train epoch 13] loss: 25.410, acc: 0.940: 100%|██████████| 16/16 [00:02<00:00,  6.86it/s]\n"
     ]
    },
    {
     "name": "stdout",
     "output_type": "stream",
     "text": [
      "25.4103946685791\n"
     ]
    },
    {
     "name": "stderr",
     "output_type": "stream",
     "text": [
      "[train epoch 14] loss: 23.301, acc: 0.938: 100%|██████████| 16/16 [00:02<00:00,  6.92it/s]\n"
     ]
    },
    {
     "name": "stdout",
     "output_type": "stream",
     "text": [
      "23.301067352294922\n"
     ]
    },
    {
     "name": "stderr",
     "output_type": "stream",
     "text": [
      "[train epoch 15] loss: 21.219, acc: 0.940: 100%|██████████| 16/16 [00:02<00:00,  6.90it/s]\n"
     ]
    },
    {
     "name": "stdout",
     "output_type": "stream",
     "text": [
      "21.218761444091797\n"
     ]
    },
    {
     "name": "stderr",
     "output_type": "stream",
     "text": [
      "[train epoch 16] loss: 19.408, acc: 0.942: 100%|██████████| 16/16 [00:02<00:00,  6.73it/s]\n"
     ]
    },
    {
     "name": "stdout",
     "output_type": "stream",
     "text": [
      "19.407655715942383\n"
     ]
    },
    {
     "name": "stderr",
     "output_type": "stream",
     "text": [
      "[train epoch 17] loss: 18.217, acc: 0.941: 100%|██████████| 16/16 [00:02<00:00,  6.55it/s]\n"
     ]
    },
    {
     "name": "stdout",
     "output_type": "stream",
     "text": [
      "18.217458724975586\n"
     ]
    },
    {
     "name": "stderr",
     "output_type": "stream",
     "text": [
      "[train epoch 18] loss: 16.738, acc: 0.945: 100%|██████████| 16/16 [00:02<00:00,  6.92it/s]\n"
     ]
    },
    {
     "name": "stdout",
     "output_type": "stream",
     "text": [
      "16.737812042236328\n"
     ]
    },
    {
     "name": "stderr",
     "output_type": "stream",
     "text": [
      "[train epoch 19] loss: 15.722, acc: 0.945: 100%|██████████| 16/16 [00:02<00:00,  6.91it/s]\n"
     ]
    },
    {
     "name": "stdout",
     "output_type": "stream",
     "text": [
      "15.721599578857422\n"
     ]
    },
    {
     "name": "stderr",
     "output_type": "stream",
     "text": [
      "100%|██████████| 17/17 [00:01<00:00, 10.87it/s]\n"
     ]
    },
    {
     "name": "stdout",
     "output_type": "stream",
     "text": [
      "--------------------\n",
      "F1 score: f1_macro = 0.94177, f1_micro = 0.9571\n",
      "precision score: precision_macro = 0.92444, precision_micro = 0.9571\n",
      "recall score: recall_macro = 0.96401, recall_micro = 0.9571\n",
      "Alpha cell-------------0.38703527168732127\n",
      "ACC: 0.9618226600985221\n",
      "Mesenchymal cell-------------0.03813155386081983\n",
      "ACC: 0.9875\n",
      "Gamma (PP) cell-------------0.048141086749285036\n",
      "ACC: 0.9801980198019802\n",
      "Acinar cell-------------0.10438512869399429\n",
      "ACC: 0.9908675799086758\n",
      "Ductal cell-------------0.11677788369876073\n",
      "ACC: 0.8857142857142857\n",
      "Beta cell-------------0.21353670162059105\n",
      "ACC: 0.9419642857142857\n",
      "Delta cell-------------0.09199237368922783\n",
      "ACC: 1.0\n"
     ]
    },
    {
     "name": "stderr",
     "output_type": "stream",
     "text": [
      "[train epoch 0] loss: 3.702, acc: 0.990: 100%|██████████| 16/16 [00:02<00:00,  6.84it/s]\n"
     ]
    },
    {
     "name": "stdout",
     "output_type": "stream",
     "text": [
      "3.7022247314453125\n"
     ]
    },
    {
     "name": "stderr",
     "output_type": "stream",
     "text": [
      "100%|██████████| 17/17 [00:01<00:00, 10.67it/s]\n"
     ]
    },
    {
     "name": "stdout",
     "output_type": "stream",
     "text": [
      "--------------------\n",
      "F1 score: f1_macro = 0.9461, f1_micro = 0.96092\n",
      "precision score: precision_macro = 0.92999, precision_micro = 0.96092\n",
      "recall score: recall_macro = 0.96595, recall_micro = 0.96092\n",
      "Alpha cell-------------0.38703527168732127\n",
      "ACC: 0.9679802955665024\n",
      "Mesenchymal cell-------------0.03813155386081983\n",
      "ACC: 0.9875\n",
      "Gamma (PP) cell-------------0.048141086749285036\n",
      "ACC: 0.9801980198019802\n",
      "Acinar cell-------------0.10438512869399429\n",
      "ACC: 0.9908675799086758\n",
      "Ductal cell-------------0.11677788369876073\n",
      "ACC: 0.8938775510204081\n",
      "Beta cell-------------0.21353670162059105\n",
      "ACC: 0.9464285714285714\n",
      "Delta cell-------------0.09199237368922783\n",
      "ACC: 0.9948186528497409\n"
     ]
    },
    {
     "name": "stderr",
     "output_type": "stream",
     "text": [
      "[train epoch 1] loss: 3.906, acc: 0.993: 100%|██████████| 16/16 [00:02<00:00,  6.80it/s]\n"
     ]
    },
    {
     "name": "stdout",
     "output_type": "stream",
     "text": [
      "3.9057254791259766\n"
     ]
    },
    {
     "name": "stderr",
     "output_type": "stream",
     "text": [
      "100%|██████████| 17/17 [00:01<00:00, 10.59it/s]\n"
     ]
    },
    {
     "name": "stdout",
     "output_type": "stream",
     "text": [
      "--------------------\n",
      "F1 score: f1_macro = 0.9475, f1_micro = 0.96139\n",
      "precision score: precision_macro = 0.93207, precision_micro = 0.96139\n",
      "recall score: recall_macro = 0.96613, recall_micro = 0.96139\n",
      "Alpha cell-------------0.38703527168732127\n",
      "ACC: 0.9692118226600985\n",
      "Mesenchymal cell-------------0.03813155386081983\n",
      "ACC: 0.9875\n",
      "Gamma (PP) cell-------------0.048141086749285036\n",
      "ACC: 0.9801980198019802\n",
      "Acinar cell-------------0.10438512869399429\n",
      "ACC: 0.9908675799086758\n",
      "Ductal cell-------------0.11677788369876073\n",
      "ACC: 0.8938775510204081\n",
      "Beta cell-------------0.21353670162059105\n",
      "ACC: 0.9464285714285714\n",
      "Delta cell-------------0.09199237368922783\n",
      "ACC: 0.9948186528497409\n"
     ]
    },
    {
     "name": "stderr",
     "output_type": "stream",
     "text": [
      "[train epoch 2] loss: 3.867, acc: 0.994: 100%|██████████| 16/16 [00:02<00:00,  6.76it/s]\n"
     ]
    },
    {
     "name": "stdout",
     "output_type": "stream",
     "text": [
      "3.8672051429748535\n"
     ]
    },
    {
     "name": "stderr",
     "output_type": "stream",
     "text": [
      "100%|██████████| 17/17 [00:01<00:00, 10.63it/s]\n"
     ]
    },
    {
     "name": "stdout",
     "output_type": "stream",
     "text": [
      "--------------------\n",
      "F1 score: f1_macro = 0.95128, f1_micro = 0.9633\n",
      "precision score: precision_macro = 0.93754, precision_micro = 0.9633\n",
      "recall score: recall_macro = 0.96772, recall_micro = 0.9633\n",
      "Alpha cell-------------0.38703527168732127\n",
      "ACC: 0.9716748768472906\n",
      "Mesenchymal cell-------------0.03813155386081983\n",
      "ACC: 0.9875\n",
      "Gamma (PP) cell-------------0.048141086749285036\n",
      "ACC: 0.9801980198019802\n",
      "Acinar cell-------------0.10438512869399429\n",
      "ACC: 0.9954337899543378\n",
      "Ductal cell-------------0.11677788369876073\n",
      "ACC: 0.8979591836734694\n",
      "Beta cell-------------0.21353670162059105\n",
      "ACC: 0.9464285714285714\n",
      "Delta cell-------------0.09199237368922783\n",
      "ACC: 0.9948186528497409\n"
     ]
    },
    {
     "name": "stderr",
     "output_type": "stream",
     "text": [
      "[train epoch 3] loss: 3.855, acc: 0.994: 100%|██████████| 16/16 [00:02<00:00,  6.77it/s]\n"
     ]
    },
    {
     "name": "stdout",
     "output_type": "stream",
     "text": [
      "3.855248212814331\n"
     ]
    },
    {
     "name": "stderr",
     "output_type": "stream",
     "text": [
      "100%|██████████| 17/17 [00:01<00:00, 10.56it/s]\n"
     ]
    },
    {
     "name": "stdout",
     "output_type": "stream",
     "text": [
      "--------------------\n",
      "F1 score: f1_macro = 0.95209, f1_micro = 0.96425\n",
      "precision score: precision_macro = 0.93917, precision_micro = 0.96425\n",
      "recall score: recall_macro = 0.96765, recall_micro = 0.96425\n",
      "Alpha cell-------------0.38703527168732127\n",
      "ACC: 0.9741379310344828\n",
      "Mesenchymal cell-------------0.03813155386081983\n",
      "ACC: 0.9875\n",
      "Gamma (PP) cell-------------0.048141086749285036\n",
      "ACC: 0.9801980198019802\n",
      "Acinar cell-------------0.10438512869399429\n",
      "ACC: 0.9954337899543378\n",
      "Ductal cell-------------0.11677788369876073\n",
      "ACC: 0.8979591836734694\n",
      "Beta cell-------------0.21353670162059105\n",
      "ACC: 0.9486607142857143\n",
      "Delta cell-------------0.09199237368922783\n",
      "ACC: 0.9896373056994818\n"
     ]
    },
    {
     "name": "stderr",
     "output_type": "stream",
     "text": [
      "[train epoch 4] loss: 3.864, acc: 0.992: 100%|██████████| 16/16 [00:02<00:00,  6.79it/s]\n"
     ]
    },
    {
     "name": "stdout",
     "output_type": "stream",
     "text": [
      "3.863955020904541\n"
     ]
    },
    {
     "name": "stderr",
     "output_type": "stream",
     "text": [
      "100%|██████████| 17/17 [00:01<00:00, 10.74it/s]\n"
     ]
    },
    {
     "name": "stdout",
     "output_type": "stream",
     "text": [
      "--------------------\n",
      "F1 score: f1_macro = 0.95268, f1_micro = 0.9652\n",
      "precision score: precision_macro = 0.94013, precision_micro = 0.9652\n",
      "recall score: recall_macro = 0.968, recall_micro = 0.9652\n",
      "Alpha cell-------------0.38703527168732127\n",
      "ACC: 0.9766009852216748\n",
      "Mesenchymal cell-------------0.03813155386081983\n",
      "ACC: 0.9875\n",
      "Gamma (PP) cell-------------0.048141086749285036\n",
      "ACC: 0.9801980198019802\n",
      "Acinar cell-------------0.10438512869399429\n",
      "ACC: 0.9954337899543378\n",
      "Ductal cell-------------0.11677788369876073\n",
      "ACC: 0.8979591836734694\n",
      "Beta cell-------------0.21353670162059105\n",
      "ACC: 0.9486607142857143\n",
      "Delta cell-------------0.09199237368922783\n",
      "ACC: 0.9896373056994818\n"
     ]
    },
    {
     "name": "stderr",
     "output_type": "stream",
     "text": [
      "[train epoch 5] loss: 3.686, acc: 0.995: 100%|██████████| 16/16 [00:02<00:00,  6.78it/s]\n"
     ]
    },
    {
     "name": "stdout",
     "output_type": "stream",
     "text": [
      "3.6857364177703857\n"
     ]
    },
    {
     "name": "stderr",
     "output_type": "stream",
     "text": [
      "100%|██████████| 17/17 [00:01<00:00, 10.76it/s]\n"
     ]
    },
    {
     "name": "stdout",
     "output_type": "stream",
     "text": [
      "--------------------\n",
      "F1 score: f1_macro = 0.95336, f1_micro = 0.96568\n",
      "precision score: precision_macro = 0.94115, precision_micro = 0.96568\n",
      "recall score: recall_macro = 0.96817, recall_micro = 0.96568\n",
      "Alpha cell-------------0.38703527168732127\n",
      "ACC: 0.9778325123152709\n",
      "Mesenchymal cell-------------0.03813155386081983\n",
      "ACC: 0.9875\n",
      "Gamma (PP) cell-------------0.048141086749285036\n",
      "ACC: 0.9801980198019802\n",
      "Acinar cell-------------0.10438512869399429\n",
      "ACC: 0.9954337899543378\n",
      "Ductal cell-------------0.11677788369876073\n",
      "ACC: 0.8979591836734694\n",
      "Beta cell-------------0.21353670162059105\n",
      "ACC: 0.9486607142857143\n",
      "Delta cell-------------0.09199237368922783\n",
      "ACC: 0.9896373056994818\n"
     ]
    },
    {
     "name": "stderr",
     "output_type": "stream",
     "text": [
      "[train epoch 6] loss: 3.697, acc: 0.992: 100%|██████████| 16/16 [00:02<00:00,  6.78it/s]\n"
     ]
    },
    {
     "name": "stdout",
     "output_type": "stream",
     "text": [
      "3.6970486640930176\n"
     ]
    },
    {
     "name": "stderr",
     "output_type": "stream",
     "text": [
      "100%|██████████| 17/17 [00:01<00:00, 10.83it/s]\n"
     ]
    },
    {
     "name": "stdout",
     "output_type": "stream",
     "text": [
      "--------------------\n",
      "F1 score: f1_macro = 0.95473, f1_micro = 0.96616\n",
      "precision score: precision_macro = 0.94296, precision_micro = 0.96616\n",
      "recall score: recall_macro = 0.96876, recall_micro = 0.96616\n",
      "Alpha cell-------------0.38703527168732127\n",
      "ACC: 0.9778325123152709\n",
      "Mesenchymal cell-------------0.03813155386081983\n",
      "ACC: 0.9875\n",
      "Gamma (PP) cell-------------0.048141086749285036\n",
      "ACC: 0.9801980198019802\n",
      "Acinar cell-------------0.10438512869399429\n",
      "ACC: 0.9954337899543378\n",
      "Ductal cell-------------0.11677788369876073\n",
      "ACC: 0.9020408163265307\n",
      "Beta cell-------------0.21353670162059105\n",
      "ACC: 0.9486607142857143\n",
      "Delta cell-------------0.09199237368922783\n",
      "ACC: 0.9896373056994818\n"
     ]
    },
    {
     "name": "stderr",
     "output_type": "stream",
     "text": [
      "[train epoch 7] loss: 3.793, acc: 0.994: 100%|██████████| 16/16 [00:02<00:00,  6.82it/s]\n"
     ]
    },
    {
     "name": "stdout",
     "output_type": "stream",
     "text": [
      "3.792579412460327\n"
     ]
    },
    {
     "name": "stderr",
     "output_type": "stream",
     "text": [
      "100%|██████████| 17/17 [00:01<00:00, 10.74it/s]\n"
     ]
    },
    {
     "name": "stdout",
     "output_type": "stream",
     "text": [
      "--------------------\n",
      "F1 score: f1_macro = 0.95442, f1_micro = 0.96663\n",
      "precision score: precision_macro = 0.9428, precision_micro = 0.96663\n",
      "recall score: recall_macro = 0.96853, recall_micro = 0.96663\n",
      "Alpha cell-------------0.38703527168732127\n",
      "ACC: 0.9802955665024631\n",
      "Mesenchymal cell-------------0.03813155386081983\n",
      "ACC: 0.9875\n",
      "Gamma (PP) cell-------------0.048141086749285036\n",
      "ACC: 0.9801980198019802\n",
      "Acinar cell-------------0.10438512869399429\n",
      "ACC: 0.9954337899543378\n",
      "Ductal cell-------------0.11677788369876073\n",
      "ACC: 0.8979591836734694\n",
      "Beta cell-------------0.21353670162059105\n",
      "ACC: 0.9486607142857143\n",
      "Delta cell-------------0.09199237368922783\n",
      "ACC: 0.9896373056994818\n"
     ]
    },
    {
     "name": "stderr",
     "output_type": "stream",
     "text": [
      "[train epoch 8] loss: 3.735, acc: 0.994: 100%|██████████| 16/16 [00:02<00:00,  6.76it/s]\n"
     ]
    },
    {
     "name": "stdout",
     "output_type": "stream",
     "text": [
      "3.7347609996795654\n"
     ]
    },
    {
     "name": "stderr",
     "output_type": "stream",
     "text": [
      "100%|██████████| 17/17 [00:01<00:00, 10.61it/s]\n"
     ]
    },
    {
     "name": "stdout",
     "output_type": "stream",
     "text": [
      "--------------------\n",
      "F1 score: f1_macro = 0.95496, f1_micro = 0.96663\n",
      "precision score: precision_macro = 0.94328, precision_micro = 0.96663\n",
      "recall score: recall_macro = 0.96893, recall_micro = 0.96663\n",
      "Alpha cell-------------0.38703527168732127\n",
      "ACC: 0.979064039408867\n",
      "Mesenchymal cell-------------0.03813155386081983\n",
      "ACC: 0.9875\n",
      "Gamma (PP) cell-------------0.048141086749285036\n",
      "ACC: 0.9801980198019802\n",
      "Acinar cell-------------0.10438512869399429\n",
      "ACC: 0.9954337899543378\n",
      "Ductal cell-------------0.11677788369876073\n",
      "ACC: 0.9020408163265307\n",
      "Beta cell-------------0.21353670162059105\n",
      "ACC: 0.9486607142857143\n",
      "Delta cell-------------0.09199237368922783\n",
      "ACC: 0.9896373056994818\n"
     ]
    },
    {
     "name": "stderr",
     "output_type": "stream",
     "text": [
      "[train epoch 9] loss: 3.680, acc: 0.993: 100%|██████████| 16/16 [00:02<00:00,  6.77it/s]\n"
     ]
    },
    {
     "name": "stdout",
     "output_type": "stream",
     "text": [
      "3.6797428131103516\n"
     ]
    },
    {
     "name": "stderr",
     "output_type": "stream",
     "text": [
      "100%|██████████| 17/17 [00:01<00:00, 10.69it/s]\n"
     ]
    },
    {
     "name": "stdout",
     "output_type": "stream",
     "text": [
      "--------------------\n",
      "F1 score: f1_macro = 0.95565, f1_micro = 0.96759\n",
      "precision score: precision_macro = 0.9443, precision_micro = 0.96759\n",
      "recall score: recall_macro = 0.96929, recall_micro = 0.96759\n",
      "Alpha cell-------------0.38703527168732127\n",
      "ACC: 0.9815270935960592\n",
      "Mesenchymal cell-------------0.03813155386081983\n",
      "ACC: 0.9875\n",
      "Gamma (PP) cell-------------0.048141086749285036\n",
      "ACC: 0.9801980198019802\n",
      "Acinar cell-------------0.10438512869399429\n",
      "ACC: 0.9954337899543378\n",
      "Ductal cell-------------0.11677788369876073\n",
      "ACC: 0.9020408163265307\n",
      "Beta cell-------------0.21353670162059105\n",
      "ACC: 0.9486607142857143\n",
      "Delta cell-------------0.09199237368922783\n",
      "ACC: 0.9896373056994818\n"
     ]
    },
    {
     "name": "stderr",
     "output_type": "stream",
     "text": [
      "[train epoch 10] loss: 3.735, acc: 0.992: 100%|██████████| 16/16 [00:02<00:00,  6.77it/s]\n"
     ]
    },
    {
     "name": "stdout",
     "output_type": "stream",
     "text": [
      "3.734595537185669\n"
     ]
    },
    {
     "name": "stderr",
     "output_type": "stream",
     "text": [
      "100%|██████████| 17/17 [00:01<00:00, 10.71it/s]\n"
     ]
    },
    {
     "name": "stdout",
     "output_type": "stream",
     "text": [
      "--------------------\n",
      "F1 score: f1_macro = 0.95565, f1_micro = 0.96759\n",
      "precision score: precision_macro = 0.9443, precision_micro = 0.96759\n",
      "recall score: recall_macro = 0.96929, recall_micro = 0.96759\n",
      "Alpha cell-------------0.38703527168732127\n",
      "ACC: 0.9815270935960592\n",
      "Mesenchymal cell-------------0.03813155386081983\n",
      "ACC: 0.9875\n",
      "Gamma (PP) cell-------------0.048141086749285036\n",
      "ACC: 0.9801980198019802\n",
      "Acinar cell-------------0.10438512869399429\n",
      "ACC: 0.9954337899543378\n",
      "Ductal cell-------------0.11677788369876073\n",
      "ACC: 0.9020408163265307\n",
      "Beta cell-------------0.21353670162059105\n",
      "ACC: 0.9486607142857143\n",
      "Delta cell-------------0.09199237368922783\n",
      "ACC: 0.9896373056994818\n"
     ]
    },
    {
     "name": "stderr",
     "output_type": "stream",
     "text": [
      "[train epoch 11] loss: 3.653, acc: 0.997: 100%|██████████| 16/16 [00:02<00:00,  6.76it/s]\n"
     ]
    },
    {
     "name": "stdout",
     "output_type": "stream",
     "text": [
      "3.652683973312378\n"
     ]
    },
    {
     "name": "stderr",
     "output_type": "stream",
     "text": [
      "100%|██████████| 17/17 [00:01<00:00, 10.75it/s]\n"
     ]
    },
    {
     "name": "stdout",
     "output_type": "stream",
     "text": [
      "--------------------\n",
      "F1 score: f1_macro = 0.95656, f1_micro = 0.96806\n",
      "precision score: precision_macro = 0.9458, precision_micro = 0.96806\n",
      "recall score: recall_macro = 0.96946, recall_micro = 0.96806\n",
      "Alpha cell-------------0.38703527168732127\n",
      "ACC: 0.9827586206896551\n",
      "Mesenchymal cell-------------0.03813155386081983\n",
      "ACC: 0.9875\n",
      "Gamma (PP) cell-------------0.048141086749285036\n",
      "ACC: 0.9801980198019802\n",
      "Acinar cell-------------0.10438512869399429\n",
      "ACC: 0.9954337899543378\n",
      "Ductal cell-------------0.11677788369876073\n",
      "ACC: 0.9020408163265307\n",
      "Beta cell-------------0.21353670162059105\n",
      "ACC: 0.9486607142857143\n",
      "Delta cell-------------0.09199237368922783\n",
      "ACC: 0.9896373056994818\n"
     ]
    },
    {
     "name": "stderr",
     "output_type": "stream",
     "text": [
      "[train epoch 12] loss: 3.650, acc: 0.995: 100%|██████████| 16/16 [00:02<00:00,  6.75it/s]\n"
     ]
    },
    {
     "name": "stdout",
     "output_type": "stream",
     "text": [
      "3.6497066020965576\n"
     ]
    },
    {
     "name": "stderr",
     "output_type": "stream",
     "text": [
      "100%|██████████| 17/17 [00:01<00:00, 10.45it/s]\n"
     ]
    },
    {
     "name": "stdout",
     "output_type": "stream",
     "text": [
      "--------------------\n",
      "F1 score: f1_macro = 0.95771, f1_micro = 0.96949\n",
      "precision score: precision_macro = 0.94757, precision_micro = 0.96949\n",
      "recall score: recall_macro = 0.96999, recall_micro = 0.96949\n",
      "Alpha cell-------------0.38703527168732127\n",
      "ACC: 0.9864532019704434\n",
      "Mesenchymal cell-------------0.03813155386081983\n",
      "ACC: 0.9875\n",
      "Gamma (PP) cell-------------0.048141086749285036\n",
      "ACC: 0.9801980198019802\n",
      "Acinar cell-------------0.10438512869399429\n",
      "ACC: 0.9954337899543378\n",
      "Ductal cell-------------0.11677788369876073\n",
      "ACC: 0.9020408163265307\n",
      "Beta cell-------------0.21353670162059105\n",
      "ACC: 0.9486607142857143\n",
      "Delta cell-------------0.09199237368922783\n",
      "ACC: 0.9896373056994818\n"
     ]
    },
    {
     "name": "stderr",
     "output_type": "stream",
     "text": [
      "[train epoch 13] loss: 3.575, acc: 0.993: 100%|██████████| 16/16 [00:02<00:00,  6.76it/s]\n"
     ]
    },
    {
     "name": "stdout",
     "output_type": "stream",
     "text": [
      "3.5748629570007324\n"
     ]
    },
    {
     "name": "stderr",
     "output_type": "stream",
     "text": [
      "100%|██████████| 17/17 [00:01<00:00, 10.68it/s]\n"
     ]
    },
    {
     "name": "stdout",
     "output_type": "stream",
     "text": [
      "--------------------\n",
      "F1 score: f1_macro = 0.95771, f1_micro = 0.96949\n",
      "precision score: precision_macro = 0.94757, precision_micro = 0.96949\n",
      "recall score: recall_macro = 0.96999, recall_micro = 0.96949\n",
      "Alpha cell-------------0.38703527168732127\n",
      "ACC: 0.9864532019704434\n",
      "Mesenchymal cell-------------0.03813155386081983\n",
      "ACC: 0.9875\n",
      "Gamma (PP) cell-------------0.048141086749285036\n",
      "ACC: 0.9801980198019802\n",
      "Acinar cell-------------0.10438512869399429\n",
      "ACC: 0.9954337899543378\n",
      "Ductal cell-------------0.11677788369876073\n",
      "ACC: 0.9020408163265307\n",
      "Beta cell-------------0.21353670162059105\n",
      "ACC: 0.9486607142857143\n",
      "Delta cell-------------0.09199237368922783\n",
      "ACC: 0.9896373056994818\n"
     ]
    },
    {
     "name": "stderr",
     "output_type": "stream",
     "text": [
      "[train epoch 14] loss: 3.699, acc: 0.996: 100%|██████████| 16/16 [00:02<00:00,  6.79it/s]\n"
     ]
    },
    {
     "name": "stdout",
     "output_type": "stream",
     "text": [
      "3.6991782188415527\n"
     ]
    },
    {
     "name": "stderr",
     "output_type": "stream",
     "text": [
      "100%|██████████| 17/17 [00:01<00:00, 10.54it/s]\n"
     ]
    },
    {
     "name": "stdout",
     "output_type": "stream",
     "text": [
      "--------------------\n",
      "F1 score: f1_macro = 0.95771, f1_micro = 0.96949\n",
      "precision score: precision_macro = 0.94757, precision_micro = 0.96949\n",
      "recall score: recall_macro = 0.96999, recall_micro = 0.96949\n",
      "Alpha cell-------------0.38703527168732127\n",
      "ACC: 0.9864532019704434\n",
      "Mesenchymal cell-------------0.03813155386081983\n",
      "ACC: 0.9875\n",
      "Gamma (PP) cell-------------0.048141086749285036\n",
      "ACC: 0.9801980198019802\n",
      "Acinar cell-------------0.10438512869399429\n",
      "ACC: 0.9954337899543378\n",
      "Ductal cell-------------0.11677788369876073\n",
      "ACC: 0.9020408163265307\n",
      "Beta cell-------------0.21353670162059105\n",
      "ACC: 0.9486607142857143\n",
      "Delta cell-------------0.09199237368922783\n",
      "ACC: 0.9896373056994818\n"
     ]
    },
    {
     "name": "stderr",
     "output_type": "stream",
     "text": [
      "[train epoch 15] loss: 3.622, acc: 0.994: 100%|██████████| 16/16 [00:02<00:00,  6.81it/s]\n"
     ]
    },
    {
     "name": "stdout",
     "output_type": "stream",
     "text": [
      "3.6219890117645264\n"
     ]
    },
    {
     "name": "stderr",
     "output_type": "stream",
     "text": [
      "100%|██████████| 17/17 [00:01<00:00, 10.86it/s]\n"
     ]
    },
    {
     "name": "stdout",
     "output_type": "stream",
     "text": [
      "--------------------\n",
      "F1 score: f1_macro = 0.95771, f1_micro = 0.96949\n",
      "precision score: precision_macro = 0.94757, precision_micro = 0.96949\n",
      "recall score: recall_macro = 0.96999, recall_micro = 0.96949\n",
      "Alpha cell-------------0.38703527168732127\n",
      "ACC: 0.9864532019704434\n",
      "Mesenchymal cell-------------0.03813155386081983\n",
      "ACC: 0.9875\n",
      "Gamma (PP) cell-------------0.048141086749285036\n",
      "ACC: 0.9801980198019802\n",
      "Acinar cell-------------0.10438512869399429\n",
      "ACC: 0.9954337899543378\n",
      "Ductal cell-------------0.11677788369876073\n",
      "ACC: 0.9020408163265307\n",
      "Beta cell-------------0.21353670162059105\n",
      "ACC: 0.9486607142857143\n",
      "Delta cell-------------0.09199237368922783\n",
      "ACC: 0.9896373056994818\n"
     ]
    },
    {
     "name": "stderr",
     "output_type": "stream",
     "text": [
      "[train epoch 16] loss: 3.558, acc: 0.995: 100%|██████████| 16/16 [00:02<00:00,  6.79it/s]\n"
     ]
    },
    {
     "name": "stdout",
     "output_type": "stream",
     "text": [
      "3.5577430725097656\n"
     ]
    },
    {
     "name": "stderr",
     "output_type": "stream",
     "text": [
      "100%|██████████| 17/17 [00:01<00:00, 10.58it/s]\n"
     ]
    },
    {
     "name": "stdout",
     "output_type": "stream",
     "text": [
      "--------------------\n",
      "F1 score: f1_macro = 0.95709, f1_micro = 0.96902\n",
      "precision score: precision_macro = 0.947, precision_micro = 0.96902\n",
      "recall score: recall_macro = 0.96941, recall_micro = 0.96902\n",
      "Alpha cell-------------0.38703527168732127\n",
      "ACC: 0.9864532019704434\n",
      "Mesenchymal cell-------------0.03813155386081983\n",
      "ACC: 0.9875\n",
      "Gamma (PP) cell-------------0.048141086749285036\n",
      "ACC: 0.9801980198019802\n",
      "Acinar cell-------------0.10438512869399429\n",
      "ACC: 0.9954337899543378\n",
      "Ductal cell-------------0.11677788369876073\n",
      "ACC: 0.8979591836734694\n",
      "Beta cell-------------0.21353670162059105\n",
      "ACC: 0.9486607142857143\n",
      "Delta cell-------------0.09199237368922783\n",
      "ACC: 0.9896373056994818\n"
     ]
    },
    {
     "name": "stderr",
     "output_type": "stream",
     "text": [
      "[train epoch 17] loss: 3.551, acc: 0.994: 100%|██████████| 16/16 [00:02<00:00,  6.76it/s]\n"
     ]
    },
    {
     "name": "stdout",
     "output_type": "stream",
     "text": [
      "3.5512664318084717\n"
     ]
    },
    {
     "name": "stderr",
     "output_type": "stream",
     "text": [
      "100%|██████████| 17/17 [00:01<00:00, 10.91it/s]\n"
     ]
    },
    {
     "name": "stdout",
     "output_type": "stream",
     "text": [
      "--------------------\n",
      "F1 score: f1_macro = 0.95746, f1_micro = 0.96949\n",
      "precision score: precision_macro = 0.94761, precision_micro = 0.96949\n",
      "recall score: recall_macro = 0.96958, recall_micro = 0.96949\n",
      "Alpha cell-------------0.38703527168732127\n",
      "ACC: 0.9876847290640394\n",
      "Mesenchymal cell-------------0.03813155386081983\n",
      "ACC: 0.9875\n",
      "Gamma (PP) cell-------------0.048141086749285036\n",
      "ACC: 0.9801980198019802\n",
      "Acinar cell-------------0.10438512869399429\n",
      "ACC: 0.9954337899543378\n",
      "Ductal cell-------------0.11677788369876073\n",
      "ACC: 0.8979591836734694\n",
      "Beta cell-------------0.21353670162059105\n",
      "ACC: 0.9486607142857143\n",
      "Delta cell-------------0.09199237368922783\n",
      "ACC: 0.9896373056994818\n"
     ]
    },
    {
     "name": "stderr",
     "output_type": "stream",
     "text": [
      "[train epoch 18] loss: 3.624, acc: 0.997: 100%|██████████| 16/16 [00:02<00:00,  6.74it/s]\n"
     ]
    },
    {
     "name": "stdout",
     "output_type": "stream",
     "text": [
      "3.62440824508667\n"
     ]
    },
    {
     "name": "stderr",
     "output_type": "stream",
     "text": [
      "100%|██████████| 17/17 [00:01<00:00, 10.74it/s]\n"
     ]
    },
    {
     "name": "stdout",
     "output_type": "stream",
     "text": [
      "--------------------\n",
      "F1 score: f1_macro = 0.95746, f1_micro = 0.96949\n",
      "precision score: precision_macro = 0.94761, precision_micro = 0.96949\n",
      "recall score: recall_macro = 0.96958, recall_micro = 0.96949\n",
      "Alpha cell-------------0.38703527168732127\n",
      "ACC: 0.9876847290640394\n",
      "Mesenchymal cell-------------0.03813155386081983\n",
      "ACC: 0.9875\n",
      "Gamma (PP) cell-------------0.048141086749285036\n",
      "ACC: 0.9801980198019802\n",
      "Acinar cell-------------0.10438512869399429\n",
      "ACC: 0.9954337899543378\n",
      "Ductal cell-------------0.11677788369876073\n",
      "ACC: 0.8979591836734694\n",
      "Beta cell-------------0.21353670162059105\n",
      "ACC: 0.9486607142857143\n",
      "Delta cell-------------0.09199237368922783\n",
      "ACC: 0.9896373056994818\n"
     ]
    },
    {
     "name": "stderr",
     "output_type": "stream",
     "text": [
      "[train epoch 19] loss: 3.573, acc: 0.995: 100%|██████████| 16/16 [00:02<00:00,  6.82it/s]\n"
     ]
    },
    {
     "name": "stdout",
     "output_type": "stream",
     "text": [
      "3.5725250244140625\n"
     ]
    },
    {
     "name": "stderr",
     "output_type": "stream",
     "text": [
      "100%|██████████| 17/17 [00:01<00:00, 11.85it/s]\n"
     ]
    },
    {
     "name": "stdout",
     "output_type": "stream",
     "text": [
      "--------------------\n",
      "F1 score: f1_macro = 0.95746, f1_micro = 0.96949\n",
      "precision score: precision_macro = 0.94761, precision_micro = 0.96949\n",
      "recall score: recall_macro = 0.96958, recall_micro = 0.96949\n",
      "Alpha cell-------------0.38703527168732127\n",
      "ACC: 0.9876847290640394\n",
      "Mesenchymal cell-------------0.03813155386081983\n",
      "ACC: 0.9875\n",
      "Gamma (PP) cell-------------0.048141086749285036\n",
      "ACC: 0.9801980198019802\n",
      "Acinar cell-------------0.10438512869399429\n",
      "ACC: 0.9954337899543378\n",
      "Ductal cell-------------0.11677788369876073\n",
      "ACC: 0.8979591836734694\n",
      "Beta cell-------------0.21353670162059105\n",
      "ACC: 0.9486607142857143\n",
      "Delta cell-------------0.09199237368922783\n",
      "ACC: 0.9896373056994818\n"
     ]
    },
    {
     "name": "stderr",
     "output_type": "stream",
     "text": [
      "[train epoch 20] loss: 3.554, acc: 0.996: 100%|██████████| 16/16 [00:02<00:00,  6.93it/s]\n"
     ]
    },
    {
     "name": "stdout",
     "output_type": "stream",
     "text": [
      "3.5543904304504395\n"
     ]
    },
    {
     "name": "stderr",
     "output_type": "stream",
     "text": [
      "100%|██████████| 17/17 [00:01<00:00, 11.28it/s]\n"
     ]
    },
    {
     "name": "stdout",
     "output_type": "stream",
     "text": [
      "--------------------\n",
      "F1 score: f1_macro = 0.95746, f1_micro = 0.96949\n",
      "precision score: precision_macro = 0.94761, precision_micro = 0.96949\n",
      "recall score: recall_macro = 0.96958, recall_micro = 0.96949\n",
      "Alpha cell-------------0.38703527168732127\n",
      "ACC: 0.9876847290640394\n",
      "Mesenchymal cell-------------0.03813155386081983\n",
      "ACC: 0.9875\n",
      "Gamma (PP) cell-------------0.048141086749285036\n",
      "ACC: 0.9801980198019802\n",
      "Acinar cell-------------0.10438512869399429\n",
      "ACC: 0.9954337899543378\n",
      "Ductal cell-------------0.11677788369876073\n",
      "ACC: 0.8979591836734694\n",
      "Beta cell-------------0.21353670162059105\n",
      "ACC: 0.9486607142857143\n",
      "Delta cell-------------0.09199237368922783\n",
      "ACC: 0.9896373056994818\n"
     ]
    },
    {
     "name": "stderr",
     "output_type": "stream",
     "text": [
      "[train epoch 21] loss: 3.677, acc: 0.996: 100%|██████████| 16/16 [00:02<00:00,  6.78it/s]\n"
     ]
    },
    {
     "name": "stdout",
     "output_type": "stream",
     "text": [
      "3.6765294075012207\n"
     ]
    },
    {
     "name": "stderr",
     "output_type": "stream",
     "text": [
      "100%|██████████| 17/17 [00:01<00:00, 10.75it/s]\n"
     ]
    },
    {
     "name": "stdout",
     "output_type": "stream",
     "text": [
      "--------------------\n",
      "F1 score: f1_macro = 0.95746, f1_micro = 0.96949\n",
      "precision score: precision_macro = 0.94761, precision_micro = 0.96949\n",
      "recall score: recall_macro = 0.96958, recall_micro = 0.96949\n",
      "Alpha cell-------------0.38703527168732127\n",
      "ACC: 0.9876847290640394\n",
      "Mesenchymal cell-------------0.03813155386081983\n",
      "ACC: 0.9875\n",
      "Gamma (PP) cell-------------0.048141086749285036\n",
      "ACC: 0.9801980198019802\n",
      "Acinar cell-------------0.10438512869399429\n",
      "ACC: 0.9954337899543378\n",
      "Ductal cell-------------0.11677788369876073\n",
      "ACC: 0.8979591836734694\n",
      "Beta cell-------------0.21353670162059105\n",
      "ACC: 0.9486607142857143\n",
      "Delta cell-------------0.09199237368922783\n",
      "ACC: 0.9896373056994818\n"
     ]
    },
    {
     "name": "stderr",
     "output_type": "stream",
     "text": [
      "[train epoch 22] loss: 3.563, acc: 0.997: 100%|██████████| 16/16 [00:02<00:00,  6.75it/s]\n"
     ]
    },
    {
     "name": "stdout",
     "output_type": "stream",
     "text": [
      "3.563347578048706\n"
     ]
    },
    {
     "name": "stderr",
     "output_type": "stream",
     "text": [
      "100%|██████████| 17/17 [00:01<00:00, 11.24it/s]\n"
     ]
    },
    {
     "name": "stdout",
     "output_type": "stream",
     "text": [
      "--------------------\n",
      "F1 score: f1_macro = 0.95746, f1_micro = 0.96949\n",
      "precision score: precision_macro = 0.94761, precision_micro = 0.96949\n",
      "recall score: recall_macro = 0.96958, recall_micro = 0.96949\n",
      "Alpha cell-------------0.38703527168732127\n",
      "ACC: 0.9876847290640394\n",
      "Mesenchymal cell-------------0.03813155386081983\n",
      "ACC: 0.9875\n",
      "Gamma (PP) cell-------------0.048141086749285036\n",
      "ACC: 0.9801980198019802\n",
      "Acinar cell-------------0.10438512869399429\n",
      "ACC: 0.9954337899543378\n",
      "Ductal cell-------------0.11677788369876073\n",
      "ACC: 0.8979591836734694\n",
      "Beta cell-------------0.21353670162059105\n",
      "ACC: 0.9486607142857143\n",
      "Delta cell-------------0.09199237368922783\n",
      "ACC: 0.9896373056994818\n"
     ]
    },
    {
     "name": "stderr",
     "output_type": "stream",
     "text": [
      "[train epoch 23] loss: 3.492, acc: 0.995: 100%|██████████| 16/16 [00:02<00:00,  6.76it/s]\n"
     ]
    },
    {
     "name": "stdout",
     "output_type": "stream",
     "text": [
      "3.4923787117004395\n"
     ]
    },
    {
     "name": "stderr",
     "output_type": "stream",
     "text": [
      "100%|██████████| 17/17 [00:01<00:00, 10.71it/s]\n"
     ]
    },
    {
     "name": "stdout",
     "output_type": "stream",
     "text": [
      "--------------------\n",
      "F1 score: f1_macro = 0.95684, f1_micro = 0.96902\n",
      "precision score: precision_macro = 0.94704, precision_micro = 0.96902\n",
      "recall score: recall_macro = 0.969, recall_micro = 0.96902\n",
      "Alpha cell-------------0.38703527168732127\n",
      "ACC: 0.9876847290640394\n",
      "Mesenchymal cell-------------0.03813155386081983\n",
      "ACC: 0.9875\n",
      "Gamma (PP) cell-------------0.048141086749285036\n",
      "ACC: 0.9801980198019802\n",
      "Acinar cell-------------0.10438512869399429\n",
      "ACC: 0.9954337899543378\n",
      "Ductal cell-------------0.11677788369876073\n",
      "ACC: 0.8938775510204081\n",
      "Beta cell-------------0.21353670162059105\n",
      "ACC: 0.9486607142857143\n",
      "Delta cell-------------0.09199237368922783\n",
      "ACC: 0.9896373056994818\n"
     ]
    },
    {
     "name": "stderr",
     "output_type": "stream",
     "text": [
      "[train epoch 24] loss: 3.467, acc: 0.996: 100%|██████████| 16/16 [00:02<00:00,  6.81it/s]\n"
     ]
    },
    {
     "name": "stdout",
     "output_type": "stream",
     "text": [
      "3.466913938522339\n"
     ]
    },
    {
     "name": "stderr",
     "output_type": "stream",
     "text": [
      "100%|██████████| 17/17 [00:01<00:00, 10.62it/s]\n"
     ]
    },
    {
     "name": "stdout",
     "output_type": "stream",
     "text": [
      "--------------------\n",
      "F1 score: f1_macro = 0.95684, f1_micro = 0.96902\n",
      "precision score: precision_macro = 0.94704, precision_micro = 0.96902\n",
      "recall score: recall_macro = 0.969, recall_micro = 0.96902\n",
      "Alpha cell-------------0.38703527168732127\n",
      "ACC: 0.9876847290640394\n",
      "Mesenchymal cell-------------0.03813155386081983\n",
      "ACC: 0.9875\n",
      "Gamma (PP) cell-------------0.048141086749285036\n",
      "ACC: 0.9801980198019802\n",
      "Acinar cell-------------0.10438512869399429\n",
      "ACC: 0.9954337899543378\n",
      "Ductal cell-------------0.11677788369876073\n",
      "ACC: 0.8938775510204081\n",
      "Beta cell-------------0.21353670162059105\n",
      "ACC: 0.9486607142857143\n",
      "Delta cell-------------0.09199237368922783\n",
      "ACC: 0.9896373056994818\n"
     ]
    },
    {
     "name": "stderr",
     "output_type": "stream",
     "text": [
      "[train epoch 25] loss: 3.525, acc: 0.997: 100%|██████████| 16/16 [00:02<00:00,  6.80it/s]\n"
     ]
    },
    {
     "name": "stdout",
     "output_type": "stream",
     "text": [
      "3.525005340576172\n"
     ]
    },
    {
     "name": "stderr",
     "output_type": "stream",
     "text": [
      "100%|██████████| 17/17 [00:01<00:00, 11.42it/s]\n"
     ]
    },
    {
     "name": "stdout",
     "output_type": "stream",
     "text": [
      "--------------------\n",
      "F1 score: f1_macro = 0.95684, f1_micro = 0.96902\n",
      "precision score: precision_macro = 0.94704, precision_micro = 0.96902\n",
      "recall score: recall_macro = 0.969, recall_micro = 0.96902\n",
      "Alpha cell-------------0.38703527168732127\n",
      "ACC: 0.9876847290640394\n",
      "Mesenchymal cell-------------0.03813155386081983\n",
      "ACC: 0.9875\n",
      "Gamma (PP) cell-------------0.048141086749285036\n",
      "ACC: 0.9801980198019802\n",
      "Acinar cell-------------0.10438512869399429\n",
      "ACC: 0.9954337899543378\n",
      "Ductal cell-------------0.11677788369876073\n",
      "ACC: 0.8938775510204081\n",
      "Beta cell-------------0.21353670162059105\n",
      "ACC: 0.9486607142857143\n",
      "Delta cell-------------0.09199237368922783\n",
      "ACC: 0.9896373056994818\n"
     ]
    },
    {
     "name": "stderr",
     "output_type": "stream",
     "text": [
      "[train epoch 26] loss: 3.519, acc: 0.995: 100%|██████████| 16/16 [00:02<00:00,  6.77it/s]\n"
     ]
    },
    {
     "name": "stdout",
     "output_type": "stream",
     "text": [
      "3.5193915367126465\n"
     ]
    },
    {
     "name": "stderr",
     "output_type": "stream",
     "text": [
      "100%|██████████| 17/17 [00:01<00:00, 11.42it/s]\n"
     ]
    },
    {
     "name": "stdout",
     "output_type": "stream",
     "text": [
      "--------------------\n",
      "F1 score: f1_macro = 0.95684, f1_micro = 0.96902\n",
      "precision score: precision_macro = 0.94704, precision_micro = 0.96902\n",
      "recall score: recall_macro = 0.969, recall_micro = 0.96902\n",
      "Alpha cell-------------0.38703527168732127\n",
      "ACC: 0.9876847290640394\n",
      "Mesenchymal cell-------------0.03813155386081983\n",
      "ACC: 0.9875\n",
      "Gamma (PP) cell-------------0.048141086749285036\n",
      "ACC: 0.9801980198019802\n",
      "Acinar cell-------------0.10438512869399429\n",
      "ACC: 0.9954337899543378\n",
      "Ductal cell-------------0.11677788369876073\n",
      "ACC: 0.8938775510204081\n",
      "Beta cell-------------0.21353670162059105\n",
      "ACC: 0.9486607142857143\n",
      "Delta cell-------------0.09199237368922783\n",
      "ACC: 0.9896373056994818\n"
     ]
    },
    {
     "name": "stderr",
     "output_type": "stream",
     "text": [
      "[train epoch 27] loss: 3.507, acc: 0.996: 100%|██████████| 16/16 [00:02<00:00,  6.88it/s]\n"
     ]
    },
    {
     "name": "stdout",
     "output_type": "stream",
     "text": [
      "3.5073957443237305\n"
     ]
    },
    {
     "name": "stderr",
     "output_type": "stream",
     "text": [
      "100%|██████████| 17/17 [00:01<00:00, 10.64it/s]\n"
     ]
    },
    {
     "name": "stdout",
     "output_type": "stream",
     "text": [
      "--------------------\n",
      "F1 score: f1_macro = 0.95716, f1_micro = 0.96902\n",
      "precision score: precision_macro = 0.94762, precision_micro = 0.96902\n",
      "recall score: recall_macro = 0.969, recall_micro = 0.96902\n",
      "Alpha cell-------------0.38703527168732127\n",
      "ACC: 0.9876847290640394\n",
      "Mesenchymal cell-------------0.03813155386081983\n",
      "ACC: 0.9875\n",
      "Gamma (PP) cell-------------0.048141086749285036\n",
      "ACC: 0.9801980198019802\n",
      "Acinar cell-------------0.10438512869399429\n",
      "ACC: 0.9954337899543378\n",
      "Ductal cell-------------0.11677788369876073\n",
      "ACC: 0.8938775510204081\n",
      "Beta cell-------------0.21353670162059105\n",
      "ACC: 0.9486607142857143\n",
      "Delta cell-------------0.09199237368922783\n",
      "ACC: 0.9896373056994818\n"
     ]
    },
    {
     "name": "stderr",
     "output_type": "stream",
     "text": [
      "[train epoch 28] loss: 3.570, acc: 0.994: 100%|██████████| 16/16 [00:02<00:00,  6.78it/s]\n"
     ]
    },
    {
     "name": "stdout",
     "output_type": "stream",
     "text": [
      "3.5696749687194824\n"
     ]
    },
    {
     "name": "stderr",
     "output_type": "stream",
     "text": [
      "100%|██████████| 17/17 [00:01<00:00, 10.61it/s]\n"
     ]
    },
    {
     "name": "stdout",
     "output_type": "stream",
     "text": [
      "--------------------\n",
      "F1 score: f1_macro = 0.95768, f1_micro = 0.96902\n",
      "precision score: precision_macro = 0.94863, precision_micro = 0.96902\n",
      "recall score: recall_macro = 0.96907, recall_micro = 0.96902\n",
      "Alpha cell-------------0.38703527168732127\n",
      "ACC: 0.9876847290640394\n",
      "Mesenchymal cell-------------0.03813155386081983\n",
      "ACC: 0.9875\n",
      "Gamma (PP) cell-------------0.048141086749285036\n",
      "ACC: 0.9801980198019802\n",
      "Acinar cell-------------0.10438512869399429\n",
      "ACC: 1.0\n",
      "Ductal cell-------------0.11677788369876073\n",
      "ACC: 0.889795918367347\n",
      "Beta cell-------------0.21353670162059105\n",
      "ACC: 0.9486607142857143\n",
      "Delta cell-------------0.09199237368922783\n",
      "ACC: 0.9896373056994818\n"
     ]
    },
    {
     "name": "stderr",
     "output_type": "stream",
     "text": [
      "[train epoch 29] loss: 3.507, acc: 0.997: 100%|██████████| 16/16 [00:02<00:00,  6.79it/s]\n"
     ]
    },
    {
     "name": "stdout",
     "output_type": "stream",
     "text": [
      "3.5065791606903076\n",
      "Training finished!\n",
      "207.39266085624695\n"
     ]
    }
   ],
   "source": [
    "our_query_adata = sc.read('Path/Muraro.h5ad') #Reading scRNA-seq Data\n",
    "\n",
    "current_path = os.getcwd()\n",
    "print(our_query_adata)\n",
    "sICTA.train(our_query_adata, gmt_path='human_gobp', label_name='broad_cell_type',epochs=50,current_path = current_path, project='hGOBP_demo',batch_size = 128) #Model Training"
   ]
  },
  {
   "cell_type": "code",
   "execution_count": 5,
   "metadata": {},
   "outputs": [
    {
     "name": "stdout",
     "output_type": "stream",
     "text": [
      "cuda:2\n",
      "0.9689885496183206\n"
     ]
    }
   ],
   "source": [
    "model_weight_path = './hGOBP_demo/model-29.pth' #Storage Path for the Trained Model\n",
    "adata, pre_list = sICTA.pre(our_query_adata, model_weight_path = model_weight_path,current_path = current_path,project='hGOBP_demo') #Model Prediction\n",
    "new_adata = sc.AnnData(adata.X)\n",
    "new_adata.obs_names = adata.obs_names \n",
    "new_adata.var_names = adata.var_names\n",
    "new_adata.obs['broad_cell_type_2'] = adata.obs['broad_cell_type_2'] #Labeling of Cell Types\n",
    "new_adata.write(\"Path/Muraro_att.h5ad\")  #Extracted Cell-Pathway Attention Matrix"
   ]
  },
  {
   "cell_type": "code",
   "execution_count": 6,
   "metadata": {},
   "outputs": [
    {
     "data": {
      "text/plain": [
       "AnnData object with n_obs × n_vars = 2096 × 299\n",
       "    obs: 'broad_cell_type_2'"
      ]
     },
     "execution_count": 6,
     "metadata": {},
     "output_type": "execute_result"
    }
   ],
   "source": [
    "adata = sc.read('Path/Muraro_att.h5ad') \n",
    "adata"
   ]
  },
  {
   "cell_type": "code",
   "execution_count": 7,
   "metadata": {},
   "outputs": [],
   "source": [
    "sc.pp.normalize_total(adata, target_sum=1e4) #Data Processing\n",
    "sc.pp.log1p(adata)\n",
    "adata.raw = adata"
   ]
  },
  {
   "cell_type": "code",
   "execution_count": 11,
   "metadata": {},
   "outputs": [
    {
     "name": "stdout",
     "output_type": "stream",
     "text": [
      "WARNING: The title list is shorter than the number of panels. Using 'color' value instead for some plots.\n"
     ]
    },
    {
     "data": {
      "image/png": "[encoded data removed]",
      "text/plain": [
       "<Figure size 1290.24x345.6 with 2 Axes>"
      ]
     },
     "metadata": {},
     "output_type": "display_data"
    },
    {
     "name": "stdout",
     "output_type": "stream",
     "text": [
      "sICTA   Adjusted_rand_score   0.9382823919861774   Adjusted_mutual_info_score   0.904896836670427   ASW   0.32679266\n"
     ]
    }
   ],
   "source": [
    "from sklearn.metrics import adjusted_rand_score, adjusted_mutual_info_score, silhouette_score #Clustering by Cell-Pathway Attention Matrix\n",
    "\n",
    "sc.tl.pca(adata, svd_solver='arpack')\n",
    "sc.pp.neighbors(adata)\n",
    "sc.tl.umap(adata)\n",
    "sc.tl.louvain(adata,resolution=0.3, key_added='louvain')\n",
    "list_lou = []\n",
    "for value in adata.obs['louvain']:\n",
    "    if value == '0':\n",
    "        list_lou.append('C2')\n",
    "    if value == '1':\n",
    "        list_lou.append('C3')\n",
    "    if value == '2':\n",
    "        list_lou.append('C5')\n",
    "    if value == '3':\n",
    "        list_lou.append('C1')\n",
    "    if value == '4':\n",
    "        list_lou.append('C4')\n",
    "    if value == '5':\n",
    "        list_lou.append('C6')\n",
    "    if value == '6':\n",
    "        list_lou.append('C7')\n",
    "adata.obs['louvain'] = list_lou\n",
    "\n",
    "color = ['#E7B18E','#E9CCC3','#F2DFEA','#ADDBD7','#6BC3BA','#D8EDE6','#A2D194'] \n",
    "sc.pl.umap(adata, color=[\"broad_cell_type_2\",\"louvain\"], frameon=False, legend_fontsize=10,title='cell_type',wspace = 0.4,palette=color)  #save = \"sCITA_draw_cell_typepdf\"\n",
    "print(\"sICTA   Adjusted_rand_score   \"+str(adjusted_rand_score(adata.obs['broad_cell_type_2'],adata.obs['louvain']))+\"   Adjusted_mutual_info_score   \"+str(adjusted_mutual_info_score(adata.obs['broad_cell_type_2'],adata.obs['louvain']))+\"   ASW   \"+str(silhouette_score(adata.X,adata.obs['broad_cell_type_2'])))"
   ]
  },
  {
   "cell_type": "code",
   "execution_count": 12,
   "metadata": {},
   "outputs": [
    {
     "data": {
      "text/html": [
       "<div>\n",
       "<style scoped>\n",
       "    .dataframe tbody tr th:only-of-type {\n",
       "        vertical-align: middle;\n",
       "    }\n",
       "\n",
       "    .dataframe tbody tr th {\n",
       "        vertical-align: top;\n",
       "    }\n",
       "\n",
       "    .dataframe thead th {\n",
       "        text-align: right;\n",
       "    }\n",
       "</style>\n",
       "<table border=\"1\" class=\"dataframe\">\n",
       "  <thead>\n",
       "    <tr style=\"text-align: right;\">\n",
       "      <th></th>\n",
       "      <th>Acinar cell</th>\n",
       "      <th>Alpha cell</th>\n",
       "      <th>Beta cell</th>\n",
       "      <th>Delta cell</th>\n",
       "      <th>Ductal cell</th>\n",
       "      <th>Gamma (PP) cell</th>\n",
       "      <th>Mesenchymal cell</th>\n",
       "    </tr>\n",
       "  </thead>\n",
       "  <tbody>\n",
       "    <tr>\n",
       "      <th>0</th>\n",
       "      <td>GOBP_ADAPTIVE_THERMOGENESIS</td>\n",
       "      <td>GOBP_HOMEOSTASIS_OF_NUMBER_OF_CELLS</td>\n",
       "      <td>GOBP_REGULATION_OF_CELL_SHAPE</td>\n",
       "      <td>GOBP_OXIDATIVE_PHOSPHORYLATION</td>\n",
       "      <td>GOBP_EXTRINSIC_APOPTOTIC_SIGNALING_PATHWAY</td>\n",
       "      <td>GOBP_ESTABLISHMENT_OF_RNA_LOCALIZATION</td>\n",
       "      <td>GOBP_TEMPERATURE_HOMEOSTASIS</td>\n",
       "    </tr>\n",
       "    <tr>\n",
       "      <th>1</th>\n",
       "      <td>GOBP_VESICLE_MEDIATED_TRANSPORT_IN_SYNAPSE</td>\n",
       "      <td>GOBP_REGULATION_OF_LEUKOCYTE_DIFFERENTIATION</td>\n",
       "      <td>GOBP_RESPONSE_TO_NUTRIENT</td>\n",
       "      <td>GOBP_FC_RECEPTOR_SIGNALING_PATHWAY</td>\n",
       "      <td>GOBP_STEM_CELL_DIFFERENTIATION</td>\n",
       "      <td>GOBP_CYTOSKELETON_DEPENDENT_INTRACELLULAR_TRAN...</td>\n",
       "      <td>GOBP_ORGANIC_HYDROXY_COMPOUND_TRANSPORT</td>\n",
       "    </tr>\n",
       "    <tr>\n",
       "      <th>2</th>\n",
       "      <td>GOBP_REGULATION_OF_PROTEIN_MODIFICATION_BY_SMA...</td>\n",
       "      <td>GOBP_CELL_CYCLE_G1_S_PHASE_TRANSITION</td>\n",
       "      <td>GOBP_T_CELL_DIFFERENTIATION</td>\n",
       "      <td>GOBP_RESPIRATORY_ELECTRON_TRANSPORT_CHAIN</td>\n",
       "      <td>GOBP_GLYCOSYLATION</td>\n",
       "      <td>GOBP_SIGNAL_TRANSDUCTION_BY_P53_CLASS_MEDIATOR</td>\n",
       "      <td>GOBP_NEGATIVE_REGULATION_OF_GROWTH</td>\n",
       "    </tr>\n",
       "    <tr>\n",
       "      <th>3</th>\n",
       "      <td>GOBP_CELLULAR_RESPONSE_TO_OXYGEN_LEVELS</td>\n",
       "      <td>GOBP_NEGATIVE_REGULATION_OF_CELL_ACTIVATION</td>\n",
       "      <td>GOBP_MICROTUBULE_BASED_TRANSPORT</td>\n",
       "      <td>GOBP_TRANSPORT_ALONG_MICROTUBULE</td>\n",
       "      <td>GOBP_LEUKOCYTE_CHEMOTAXIS</td>\n",
       "      <td>GOBP_CELL_SUBSTRATE_JUNCTION_ORGANIZATION</td>\n",
       "      <td>GOBP_NEGATIVE_REGULATION_OF_CELL_DEVELOPMENT</td>\n",
       "    </tr>\n",
       "    <tr>\n",
       "      <th>4</th>\n",
       "      <td>GOBP_MAINTENANCE_OF_LOCATION_IN_CELL</td>\n",
       "      <td>GOBP_PLATELET_DEGRANULATION</td>\n",
       "      <td>GOBP_RESPONSE_TO_MECHANICAL_STIMULUS</td>\n",
       "      <td>GOBP_TISSUE_REMODELING</td>\n",
       "      <td>GOBP_MOVEMENT_IN_HOST_ENVIRONMENT</td>\n",
       "      <td>GOBP_REGULATION_OF_MUSCLE_SYSTEM_PROCESS</td>\n",
       "      <td>GOBP_I_KAPPAB_KINASE_NF_KAPPAB_SIGNALING</td>\n",
       "    </tr>\n",
       "  </tbody>\n",
       "</table>\n",
       "</div>"
      ],
      "text/plain": [
       "                                         Acinar cell  \\\n",
       "0                        GOBP_ADAPTIVE_THERMOGENESIS   \n",
       "1         GOBP_VESICLE_MEDIATED_TRANSPORT_IN_SYNAPSE   \n",
       "2  GOBP_REGULATION_OF_PROTEIN_MODIFICATION_BY_SMA...   \n",
       "3            GOBP_CELLULAR_RESPONSE_TO_OXYGEN_LEVELS   \n",
       "4               GOBP_MAINTENANCE_OF_LOCATION_IN_CELL   \n",
       "\n",
       "                                     Alpha cell  \\\n",
       "0           GOBP_HOMEOSTASIS_OF_NUMBER_OF_CELLS   \n",
       "1  GOBP_REGULATION_OF_LEUKOCYTE_DIFFERENTIATION   \n",
       "2         GOBP_CELL_CYCLE_G1_S_PHASE_TRANSITION   \n",
       "3   GOBP_NEGATIVE_REGULATION_OF_CELL_ACTIVATION   \n",
       "4                   GOBP_PLATELET_DEGRANULATION   \n",
       "\n",
       "                              Beta cell  \\\n",
       "0         GOBP_REGULATION_OF_CELL_SHAPE   \n",
       "1             GOBP_RESPONSE_TO_NUTRIENT   \n",
       "2           GOBP_T_CELL_DIFFERENTIATION   \n",
       "3      GOBP_MICROTUBULE_BASED_TRANSPORT   \n",
       "4  GOBP_RESPONSE_TO_MECHANICAL_STIMULUS   \n",
       "\n",
       "                                  Delta cell  \\\n",
       "0             GOBP_OXIDATIVE_PHOSPHORYLATION   \n",
       "1         GOBP_FC_RECEPTOR_SIGNALING_PATHWAY   \n",
       "2  GOBP_RESPIRATORY_ELECTRON_TRANSPORT_CHAIN   \n",
       "3           GOBP_TRANSPORT_ALONG_MICROTUBULE   \n",
       "4                     GOBP_TISSUE_REMODELING   \n",
       "\n",
       "                                  Ductal cell  \\\n",
       "0  GOBP_EXTRINSIC_APOPTOTIC_SIGNALING_PATHWAY   \n",
       "1              GOBP_STEM_CELL_DIFFERENTIATION   \n",
       "2                          GOBP_GLYCOSYLATION   \n",
       "3                   GOBP_LEUKOCYTE_CHEMOTAXIS   \n",
       "4           GOBP_MOVEMENT_IN_HOST_ENVIRONMENT   \n",
       "\n",
       "                                     Gamma (PP) cell  \\\n",
       "0             GOBP_ESTABLISHMENT_OF_RNA_LOCALIZATION   \n",
       "1  GOBP_CYTOSKELETON_DEPENDENT_INTRACELLULAR_TRAN...   \n",
       "2     GOBP_SIGNAL_TRANSDUCTION_BY_P53_CLASS_MEDIATOR   \n",
       "3          GOBP_CELL_SUBSTRATE_JUNCTION_ORGANIZATION   \n",
       "4           GOBP_REGULATION_OF_MUSCLE_SYSTEM_PROCESS   \n",
       "\n",
       "                               Mesenchymal cell  \n",
       "0                  GOBP_TEMPERATURE_HOMEOSTASIS  \n",
       "1       GOBP_ORGANIC_HYDROXY_COMPOUND_TRANSPORT  \n",
       "2            GOBP_NEGATIVE_REGULATION_OF_GROWTH  \n",
       "3  GOBP_NEGATIVE_REGULATION_OF_CELL_DEVELOPMENT  \n",
       "4      GOBP_I_KAPPAB_KINASE_NF_KAPPAB_SIGNALING  "
      ]
     },
     "execution_count": 12,
     "metadata": {},
     "output_type": "execute_result"
    }
   ],
   "source": [
    "sc.tl.rank_genes_groups(adata, 'broad_cell_type_2', method='wilcoxon')  #Finding Differentially Expressed Pathways based on Clustered Clusters or Cell Types\n",
    "dc_pathway = pd.DataFrame(adata.uns['rank_genes_groups']['names'])\n",
    "dc_pathway.head(5)"
   ]
  }
 ],
 "metadata": {
  "kernelspec": {
   "display_name": "TOSICA",
   "language": "python",
   "name": "python3"
  },
  "language_info": {
   "codemirror_mode": {
    "name": "ipython",
    "version": 3
   },
   "file_extension": ".py",
   "mimetype": "text/x-python",
   "name": "python",
   "nbconvert_exporter": "python",
   "pygments_lexer": "ipython3",
   "version": "3.8.16"
  }
 },
 "nbformat": 4,
 "nbformat_minor": 2
}
